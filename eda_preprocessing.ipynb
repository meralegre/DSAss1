{
 "cells": [
  {
   "cell_type": "code",
   "execution_count": 1,
   "id": "2f90e356-867c-4acb-9d06-f34272537595",
   "metadata": {},
   "outputs": [],
   "source": [
    "import zipfile\n",
    "\n",
    "import pandas as pd\n",
    "import numpy as np\n",
    "import matplotlib.pyplot as plt\n",
    "import seaborn as sns"
   ]
  },
  {
   "cell_type": "code",
   "execution_count": 2,
   "id": "08e181d6-78bf-42fe-9bff-740398df30df",
   "metadata": {},
   "outputs": [],
   "source": [
    "# gender_path = './zipfiles/Gender_Stats_CSV.zip'\n",
    "# parity_path = './zipfiles/school-enrollment-gender-parity-index.zip'\n",
    "\n",
    "# gender_file = 'Gender_StatsCSV.csv'\n",
    "# parity_file = 'School enrollment, gender parity index.csv'\n",
    "\n",
    "# destination_path = './data/'\n",
    "\n",
    "\n",
    "# # Open the zip file\n",
    "# with zipfile.ZipFile(gender_path, 'r') as zip_ref:\n",
    "#     # Extract the specific file\n",
    "#     zip_ref.extract(gender_file, destination_path)\n",
    "\n",
    "# with zipfile.ZipFile(parity_path, 'r') as zip_ref:\n",
    "#     zip_ref.extract(parity_file, destination_path)\n",
    "\n",
    "\n",
    "# print(f\"File '{gender_file}' has been extracted to '{destination_path}'\")\n",
    "# print(f\"File '{parity_file}' has been extracted to '{destination_path}'\")"
   ]
  },
  {
   "cell_type": "code",
   "execution_count": 3,
   "id": "de28cc13-f4b2-4330-abbd-7dc9c8ac4e2d",
   "metadata": {},
   "outputs": [],
   "source": [
    "df_gender = pd.read_csv(\"data/Gender_StatsCSV.csv\")\n",
    "df_parity = pd.read_csv(\"data/School enrollment, gender parity index.csv\")"
   ]
  },
  {
   "cell_type": "code",
   "execution_count": null,
   "id": "be153b2a-8d14-4edc-8431-8c2512c11f73",
   "metadata": {},
   "outputs": [],
   "source": []
  }
 ],
 "metadata": {
  "kernelspec": {
   "display_name": "Python 3 (ipykernel)",
   "language": "python",
   "name": "python3"
  },
  "language_info": {
   "codemirror_mode": {
    "name": "ipython",
    "version": 3
   },
   "file_extension": ".py",
   "mimetype": "text/x-python",
   "name": "python",
   "nbconvert_exporter": "python",
   "pygments_lexer": "ipython3",
   "version": "3.8.17"
  }
 },
 "nbformat": 4,
 "nbformat_minor": 5
}
